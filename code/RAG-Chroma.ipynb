{
 "cells": [
  {
   "cell_type": "markdown",
   "id": "2585db56-6f80-468d-b509-11dcb1a540e2",
   "metadata": {},
   "source": [
    "# Yelp Chatbot"
   ]
  },
  {
   "cell_type": "code",
   "execution_count": 1,
   "id": "f9ce4cb9-bb7b-4b39-aea9-6a3fc7b5e7ef",
   "metadata": {
    "tags": []
   },
   "outputs": [
    {
     "data": {
      "text/html": [
       "<img src=\"https://upload.wikimedia.org/wikipedia/commons/thumb/a/ad/Yelp_Logo.svg/1200px-Yelp_Logo.svg.png\" alt=\"Yelp\" width=\"500\"/>"
      ],
      "text/plain": [
       "<IPython.core.display.HTML object>"
      ]
     },
     "metadata": {},
     "output_type": "display_data"
    }
   ],
   "source": [
    "from IPython.display import Image, display, HTML\n",
    "\n",
    "# URL de la imagen\n",
    "image_url = 'https://upload.wikimedia.org/wikipedia/commons/thumb/a/ad/Yelp_Logo.svg/1200px-Yelp_Logo.svg.png'\n",
    "\n",
    "# HTML para mostrar la imagen con tamaño ajustado\n",
    "html_code = f'<img src=\"{image_url}\" alt=\"Yelp\" width=\"500\"/>'\n",
    "\n",
    "# Mostrar la imagen usando HTML\n",
    "display(HTML(html_code))"
   ]
  },
  {
   "cell_type": "markdown",
   "id": "ea750589-18dc-4f78-afda-b53d0ca5cf3e",
   "metadata": {},
   "source": [
    "### Importing libraries"
   ]
  },
  {
   "cell_type": "code",
   "execution_count": 2,
   "id": "ca593a05-4bb5-468e-8ebe-7f3d78e5724c",
   "metadata": {
    "tags": []
   },
   "outputs": [],
   "source": [
    "import streamlit as st\n",
    "import pandas as pd\n",
    "from chromadb.api.types import Document\n",
    "from chromadb.utils import embedding_functions\n",
    "from chromadb import Client\n",
    "import os\n",
    "import re\n",
    "from typing import List\n",
    "from openai import OpenAI\n",
    "import nltk\n",
    "from nltk.corpus import stopwords\n",
    "from nltk.stem import WordNetLemmatizer\n",
    "import os\n",
    "os.environ[\"TOKENIZERS_PARALLELISM\"] = \"false\""
   ]
  },
  {
   "cell_type": "markdown",
   "id": "f397b436-abd7-4cb7-915f-ed2d1b39628a",
   "metadata": {},
   "source": [
    "### Downloading NLTK Resources"
   ]
  },
  {
   "cell_type": "code",
   "execution_count": 3,
   "id": "71b118ff-fd97-480a-91ef-09b93b3269c2",
   "metadata": {
    "tags": []
   },
   "outputs": [
    {
     "name": "stderr",
     "output_type": "stream",
     "text": [
      "[nltk_data] Downloading package punkt to\n",
      "[nltk_data]     /Users/erwinminor/nltk_data...\n",
      "[nltk_data]   Package punkt is already up-to-date!\n",
      "[nltk_data] Downloading package stopwords to\n",
      "[nltk_data]     /Users/erwinminor/nltk_data...\n",
      "[nltk_data]   Package stopwords is already up-to-date!\n",
      "[nltk_data] Downloading package wordnet to\n",
      "[nltk_data]     /Users/erwinminor/nltk_data...\n",
      "[nltk_data]   Package wordnet is already up-to-date!\n"
     ]
    },
    {
     "data": {
      "text/plain": [
       "True"
      ]
     },
     "execution_count": 3,
     "metadata": {},
     "output_type": "execute_result"
    }
   ],
   "source": [
    "nltk.download('punkt')\n",
    "nltk.download('stopwords')\n",
    "nltk.download('wordnet')"
   ]
  },
  {
   "cell_type": "markdown",
   "id": "5cf59d45-365c-4856-92f9-e672cac14fad",
   "metadata": {},
   "source": [
    "### OpenAI API Key"
   ]
  },
  {
   "cell_type": "markdown",
   "id": "094f8bb0-17d1-4d03-a2e1-7065feb9fc34",
   "metadata": {},
   "source": [
    "### Reading data and sampling 10,000 for the RAG"
   ]
  },
  {
   "cell_type": "code",
   "execution_count": 5,
   "id": "6c80d244-c007-4103-bc69-97687a1452fb",
   "metadata": {
    "tags": []
   },
   "outputs": [],
   "source": [
    "df = pd.read_csv('/Users/erwinminor/Desktop/AI/data2.csv')"
   ]
  },
  {
   "cell_type": "code",
   "execution_count": 6,
   "id": "6265a453-bae9-41d8-a5be-d087ad620366",
   "metadata": {
    "tags": []
   },
   "outputs": [
    {
     "data": {
      "text/html": [
       "<div>\n",
       "<style scoped>\n",
       "    .dataframe tbody tr th:only-of-type {\n",
       "        vertical-align: middle;\n",
       "    }\n",
       "\n",
       "    .dataframe tbody tr th {\n",
       "        vertical-align: top;\n",
       "    }\n",
       "\n",
       "    .dataframe thead th {\n",
       "        text-align: right;\n",
       "    }\n",
       "</style>\n",
       "<table border=\"1\" class=\"dataframe\">\n",
       "  <thead>\n",
       "    <tr style=\"text-align: right;\">\n",
       "      <th></th>\n",
       "      <th>business_id</th>\n",
       "      <th>name</th>\n",
       "      <th>address</th>\n",
       "      <th>city</th>\n",
       "      <th>state</th>\n",
       "      <th>postal_code</th>\n",
       "      <th>latitude</th>\n",
       "      <th>longitude</th>\n",
       "      <th>review_count</th>\n",
       "      <th>categories</th>\n",
       "      <th>hours</th>\n",
       "      <th>tips</th>\n",
       "      <th>reviews</th>\n",
       "      <th>stars</th>\n",
       "    </tr>\n",
       "  </thead>\n",
       "  <tbody>\n",
       "    <tr>\n",
       "      <th>65045</th>\n",
       "      <td>cD_If67mFKSEKFE1BZgJCA</td>\n",
       "      <td>Trolley Car Ice Cream Shoppe</td>\n",
       "      <td>7619 Germantown Ave</td>\n",
       "      <td>Philadelphia</td>\n",
       "      <td>PA</td>\n",
       "      <td>19119</td>\n",
       "      <td>40.065664</td>\n",
       "      <td>-75.195612</td>\n",
       "      <td>20</td>\n",
       "      <td>Ice Cream &amp; Frozen Yogurt, Desserts, Food</td>\n",
       "      <td>{'Monday': '12:0-22:0', 'Tuesday': '12:0-22:0'...</td>\n",
       "      <td>Gelati with root beer ice and vanilla ice crea...</td>\n",
       "      <td>I haven't tried their water ice, however, I ha...</td>\n",
       "      <td>3.761905</td>\n",
       "    </tr>\n",
       "    <tr>\n",
       "      <th>48444</th>\n",
       "      <td>jYAol1aB_ZC8JhKMljG9zw</td>\n",
       "      <td>Christine's House of Kingfish Barbecue</td>\n",
       "      <td>926 Rt 206</td>\n",
       "      <td>Shamong</td>\n",
       "      <td>NJ</td>\n",
       "      <td>08088</td>\n",
       "      <td>39.767384</td>\n",
       "      <td>-74.738348</td>\n",
       "      <td>59</td>\n",
       "      <td>Southern, Barbeque, Restaurants</td>\n",
       "      <td>{'Friday': '12:0-18:30', 'Saturday': '12:0-19:...</td>\n",
       "      <td>The crew were very friendly and inviting. The ...</td>\n",
       "      <td>AMAZING! I'm from the south (Western NC) and t...</td>\n",
       "      <td>4.531250</td>\n",
       "    </tr>\n",
       "    <tr>\n",
       "      <th>35384</th>\n",
       "      <td>NNab8Ympt7XaVWGWjqoykg</td>\n",
       "      <td>Every Body Massage</td>\n",
       "      <td>6654 Chippewa St</td>\n",
       "      <td>St. Louis</td>\n",
       "      <td>MO</td>\n",
       "      <td>63109</td>\n",
       "      <td>38.590182</td>\n",
       "      <td>-90.306076</td>\n",
       "      <td>26</td>\n",
       "      <td>Massage Therapy, Hair Removal, Health &amp; Medica...</td>\n",
       "      <td>{'Monday': '0:0-0:0', 'Tuesday': '9:0-21:0', '...</td>\n",
       "      <td>NaN</td>\n",
       "      <td>I'm always hesitant to leave poor reviews for ...</td>\n",
       "      <td>4.846154</td>\n",
       "    </tr>\n",
       "    <tr>\n",
       "      <th>104156</th>\n",
       "      <td>LxBB61ONDmFoWSLBQZWBIA</td>\n",
       "      <td>O'Reilly Auto Parts</td>\n",
       "      <td>232 Los Altos Parkway</td>\n",
       "      <td>Sparks</td>\n",
       "      <td>NV</td>\n",
       "      <td>89436</td>\n",
       "      <td>39.584389</td>\n",
       "      <td>-119.740724</td>\n",
       "      <td>20</td>\n",
       "      <td>Automotive, Auto Parts &amp; Supplies</td>\n",
       "      <td>{'Monday': '7:30-21:0', 'Tuesday': '7:30-21:0'...</td>\n",
       "      <td>NaN</td>\n",
       "      <td>Cant give enough kudos to Ben. He treated me i...</td>\n",
       "      <td>3.850000</td>\n",
       "    </tr>\n",
       "    <tr>\n",
       "      <th>68395</th>\n",
       "      <td>fNd-tOJGusNDcT0Kqzikaw</td>\n",
       "      <td>Indian Hut</td>\n",
       "      <td>1253 Churchmans Rd</td>\n",
       "      <td>Newark</td>\n",
       "      <td>DE</td>\n",
       "      <td>19713</td>\n",
       "      <td>39.691200</td>\n",
       "      <td>-75.661555</td>\n",
       "      <td>22</td>\n",
       "      <td>Indian, Restaurants</td>\n",
       "      <td>{'Monday': '11:30-21:30', 'Tuesday': '11:30-21...</td>\n",
       "      <td>Not recommended</td>\n",
       "      <td>I love this place!! Their food tastes like aut...</td>\n",
       "      <td>2.727273</td>\n",
       "    </tr>\n",
       "    <tr>\n",
       "      <th>...</th>\n",
       "      <td>...</td>\n",
       "      <td>...</td>\n",
       "      <td>...</td>\n",
       "      <td>...</td>\n",
       "      <td>...</td>\n",
       "      <td>...</td>\n",
       "      <td>...</td>\n",
       "      <td>...</td>\n",
       "      <td>...</td>\n",
       "      <td>...</td>\n",
       "      <td>...</td>\n",
       "      <td>...</td>\n",
       "      <td>...</td>\n",
       "      <td>...</td>\n",
       "    </tr>\n",
       "    <tr>\n",
       "      <th>130846</th>\n",
       "      <td>pBP6Vxhx1PSH2TftigpqtQ</td>\n",
       "      <td>Core Wellness and Chiropractic</td>\n",
       "      <td>100-111 Broadway Boulevard</td>\n",
       "      <td>Sherwood Park</td>\n",
       "      <td>AB</td>\n",
       "      <td>T8H 2A8</td>\n",
       "      <td>53.544253</td>\n",
       "      <td>-113.312416</td>\n",
       "      <td>5</td>\n",
       "      <td>Acupuncture, Beauty &amp; Spas, Chiropractors, Hea...</td>\n",
       "      <td>{'Monday': '7:30-18:30', 'Tuesday': '7:30-18:0...</td>\n",
       "      <td>These guys crack me up!</td>\n",
       "      <td>I've been going to see Dr. Dustin at this clin...</td>\n",
       "      <td>5.000000</td>\n",
       "    </tr>\n",
       "    <tr>\n",
       "      <th>20633</th>\n",
       "      <td>lznQEqIirjbjIMHkJZuS8A</td>\n",
       "      <td>Calogero's</td>\n",
       "      <td>608 Iberville St</td>\n",
       "      <td>New Orleans</td>\n",
       "      <td>LA</td>\n",
       "      <td>70130</td>\n",
       "      <td>29.953699</td>\n",
       "      <td>-90.067618</td>\n",
       "      <td>10</td>\n",
       "      <td>Bars, Nightlife</td>\n",
       "      <td>{'Monday': '12:0-6:0', 'Tuesday': '12:0-6:0', ...</td>\n",
       "      <td>Great happy hour!!! \\nMonday double well drink...</td>\n",
       "      <td>Cheese and Crackers!!  These guys make the bes...</td>\n",
       "      <td>4.600000</td>\n",
       "    </tr>\n",
       "    <tr>\n",
       "      <th>117702</th>\n",
       "      <td>fm5tEBP8q9COf360VdcxZg</td>\n",
       "      <td>The Detail Shop Reno</td>\n",
       "      <td>199 E Moana Ln</td>\n",
       "      <td>Reno</td>\n",
       "      <td>NV</td>\n",
       "      <td>89502</td>\n",
       "      <td>39.492596</td>\n",
       "      <td>-119.794103</td>\n",
       "      <td>7</td>\n",
       "      <td>Auto Detailing, Automotive, Car Wash</td>\n",
       "      <td>{'Monday': '9:0-17:0', 'Tuesday': '9:0-17:0', ...</td>\n",
       "      <td>NaN</td>\n",
       "      <td>Did an amazing job on my suv. They were respon...</td>\n",
       "      <td>5.000000</td>\n",
       "    </tr>\n",
       "    <tr>\n",
       "      <th>45441</th>\n",
       "      <td>FZm2oRJ_pka6u2KPcVEBkw</td>\n",
       "      <td>Burger King</td>\n",
       "      <td>3701 34th St N</td>\n",
       "      <td>Saint Petersburg</td>\n",
       "      <td>FL</td>\n",
       "      <td>33713</td>\n",
       "      <td>27.805841</td>\n",
       "      <td>-82.679086</td>\n",
       "      <td>9</td>\n",
       "      <td>Restaurants, Fast Food, Burgers</td>\n",
       "      <td>{'Monday': '5:0-0:0', 'Tuesday': '5:0-0:0', 'W...</td>\n",
       "      <td>Sketchy burger king What a waste of time. Fast...</td>\n",
       "      <td>It's a Burger King, nothing special. Food coul...</td>\n",
       "      <td>2.666667</td>\n",
       "    </tr>\n",
       "    <tr>\n",
       "      <th>55665</th>\n",
       "      <td>xirOrZTYxXAhrwl1EKFgqQ</td>\n",
       "      <td>Panera Bread</td>\n",
       "      <td>51 Town Center Dr, Ste 2</td>\n",
       "      <td>Collegeville</td>\n",
       "      <td>PA</td>\n",
       "      <td>19426</td>\n",
       "      <td>40.166053</td>\n",
       "      <td>-75.478640</td>\n",
       "      <td>38</td>\n",
       "      <td>Restaurants, Sandwiches, Salad, Soup</td>\n",
       "      <td>{'Monday': '7:0-21:0', 'Tuesday': '7:0-21:0', ...</td>\n",
       "      <td>The Italian Combo Sandwich is yummy! 99 cent p...</td>\n",
       "      <td>I have never been to a panera before this one ...</td>\n",
       "      <td>2.692308</td>\n",
       "    </tr>\n",
       "  </tbody>\n",
       "</table>\n",
       "<p>10000 rows × 14 columns</p>\n",
       "</div>"
      ],
      "text/plain": [
       "                   business_id                                    name  \\\n",
       "65045   cD_If67mFKSEKFE1BZgJCA            Trolley Car Ice Cream Shoppe   \n",
       "48444   jYAol1aB_ZC8JhKMljG9zw  Christine's House of Kingfish Barbecue   \n",
       "35384   NNab8Ympt7XaVWGWjqoykg                      Every Body Massage   \n",
       "104156  LxBB61ONDmFoWSLBQZWBIA                     O'Reilly Auto Parts   \n",
       "68395   fNd-tOJGusNDcT0Kqzikaw                              Indian Hut   \n",
       "...                        ...                                     ...   \n",
       "130846  pBP6Vxhx1PSH2TftigpqtQ          Core Wellness and Chiropractic   \n",
       "20633   lznQEqIirjbjIMHkJZuS8A                              Calogero's   \n",
       "117702  fm5tEBP8q9COf360VdcxZg                    The Detail Shop Reno   \n",
       "45441   FZm2oRJ_pka6u2KPcVEBkw                             Burger King   \n",
       "55665   xirOrZTYxXAhrwl1EKFgqQ                            Panera Bread   \n",
       "\n",
       "                           address              city state postal_code  \\\n",
       "65045          7619 Germantown Ave      Philadelphia    PA       19119   \n",
       "48444                   926 Rt 206           Shamong    NJ       08088   \n",
       "35384             6654 Chippewa St         St. Louis    MO       63109   \n",
       "104156       232 Los Altos Parkway            Sparks    NV       89436   \n",
       "68395           1253 Churchmans Rd            Newark    DE       19713   \n",
       "...                            ...               ...   ...         ...   \n",
       "130846  100-111 Broadway Boulevard     Sherwood Park    AB     T8H 2A8   \n",
       "20633             608 Iberville St       New Orleans    LA       70130   \n",
       "117702              199 E Moana Ln              Reno    NV       89502   \n",
       "45441               3701 34th St N  Saint Petersburg    FL       33713   \n",
       "55665     51 Town Center Dr, Ste 2      Collegeville    PA       19426   \n",
       "\n",
       "         latitude   longitude  review_count  \\\n",
       "65045   40.065664  -75.195612            20   \n",
       "48444   39.767384  -74.738348            59   \n",
       "35384   38.590182  -90.306076            26   \n",
       "104156  39.584389 -119.740724            20   \n",
       "68395   39.691200  -75.661555            22   \n",
       "...           ...         ...           ...   \n",
       "130846  53.544253 -113.312416             5   \n",
       "20633   29.953699  -90.067618            10   \n",
       "117702  39.492596 -119.794103             7   \n",
       "45441   27.805841  -82.679086             9   \n",
       "55665   40.166053  -75.478640            38   \n",
       "\n",
       "                                               categories  \\\n",
       "65045           Ice Cream & Frozen Yogurt, Desserts, Food   \n",
       "48444                     Southern, Barbeque, Restaurants   \n",
       "35384   Massage Therapy, Hair Removal, Health & Medica...   \n",
       "104156                  Automotive, Auto Parts & Supplies   \n",
       "68395                                 Indian, Restaurants   \n",
       "...                                                   ...   \n",
       "130846  Acupuncture, Beauty & Spas, Chiropractors, Hea...   \n",
       "20633                                     Bars, Nightlife   \n",
       "117702               Auto Detailing, Automotive, Car Wash   \n",
       "45441                     Restaurants, Fast Food, Burgers   \n",
       "55665                Restaurants, Sandwiches, Salad, Soup   \n",
       "\n",
       "                                                    hours  \\\n",
       "65045   {'Monday': '12:0-22:0', 'Tuesday': '12:0-22:0'...   \n",
       "48444   {'Friday': '12:0-18:30', 'Saturday': '12:0-19:...   \n",
       "35384   {'Monday': '0:0-0:0', 'Tuesday': '9:0-21:0', '...   \n",
       "104156  {'Monday': '7:30-21:0', 'Tuesday': '7:30-21:0'...   \n",
       "68395   {'Monday': '11:30-21:30', 'Tuesday': '11:30-21...   \n",
       "...                                                   ...   \n",
       "130846  {'Monday': '7:30-18:30', 'Tuesday': '7:30-18:0...   \n",
       "20633   {'Monday': '12:0-6:0', 'Tuesday': '12:0-6:0', ...   \n",
       "117702  {'Monday': '9:0-17:0', 'Tuesday': '9:0-17:0', ...   \n",
       "45441   {'Monday': '5:0-0:0', 'Tuesday': '5:0-0:0', 'W...   \n",
       "55665   {'Monday': '7:0-21:0', 'Tuesday': '7:0-21:0', ...   \n",
       "\n",
       "                                                     tips  \\\n",
       "65045   Gelati with root beer ice and vanilla ice crea...   \n",
       "48444   The crew were very friendly and inviting. The ...   \n",
       "35384                                                 NaN   \n",
       "104156                                                NaN   \n",
       "68395                                     Not recommended   \n",
       "...                                                   ...   \n",
       "130846                            These guys crack me up!   \n",
       "20633   Great happy hour!!! \\nMonday double well drink...   \n",
       "117702                                                NaN   \n",
       "45441   Sketchy burger king What a waste of time. Fast...   \n",
       "55665   The Italian Combo Sandwich is yummy! 99 cent p...   \n",
       "\n",
       "                                                  reviews     stars  \n",
       "65045   I haven't tried their water ice, however, I ha...  3.761905  \n",
       "48444   AMAZING! I'm from the south (Western NC) and t...  4.531250  \n",
       "35384   I'm always hesitant to leave poor reviews for ...  4.846154  \n",
       "104156  Cant give enough kudos to Ben. He treated me i...  3.850000  \n",
       "68395   I love this place!! Their food tastes like aut...  2.727273  \n",
       "...                                                   ...       ...  \n",
       "130846  I've been going to see Dr. Dustin at this clin...  5.000000  \n",
       "20633   Cheese and Crackers!!  These guys make the bes...  4.600000  \n",
       "117702  Did an amazing job on my suv. They were respon...  5.000000  \n",
       "45441   It's a Burger King, nothing special. Food coul...  2.666667  \n",
       "55665   I have never been to a panera before this one ...  2.692308  \n",
       "\n",
       "[10000 rows x 14 columns]"
      ]
     },
     "execution_count": 6,
     "metadata": {},
     "output_type": "execute_result"
    }
   ],
   "source": [
    "df = df.sample(10000)\n",
    "df"
   ]
  },
  {
   "cell_type": "markdown",
   "id": "a66f0b5a-496c-45a8-b498-e9d27326ddc5",
   "metadata": {},
   "source": [
    "### DataSource Class"
   ]
  },
  {
   "cell_type": "code",
   "execution_count": 7,
   "id": "9e010fea-8fc1-4990-a5ed-7550ca0cbd58",
   "metadata": {
    "tags": []
   },
   "outputs": [],
   "source": [
    "class DataSource:\n",
    "    def __init__(self, data):\n",
    "        self.data = data\n",
    "\n",
    "    def preprocess_text_advanced(self, text: str) -> str:\n",
    "        text = text.lower()\n",
    "        text = re.sub(r'[^a-zA-Z\\s]', '', text)\n",
    "        tokens = nltk.word_tokenize(text)\n",
    "        stop_words = set(stopwords.words('english'))\n",
    "        tokens = [token for token in tokens if token not in stop_words]\n",
    "        lemmatizer = WordNetLemmatizer()\n",
    "        tokens = [lemmatizer.lemmatize(token) for token in tokens]\n",
    "        return ' '.join(tokens)\n",
    "\n",
    "    def process_data(self):\n",
    "        self.processed_data = [self.preprocess_text_advanced(sentence) for sentence in self.data]"
   ]
  },
  {
   "cell_type": "markdown",
   "id": "ed97c2f8-34e4-4dbb-ade1-35290881ed99",
   "metadata": {},
   "source": [
    "### UserQuery Class"
   ]
  },
  {
   "cell_type": "code",
   "execution_count": 8,
   "id": "f621a17f-9578-4557-9b7e-9633c0c503f4",
   "metadata": {
    "tags": []
   },
   "outputs": [],
   "source": [
    "class UserQuery:\n",
    "    def __init__(self, query: str):\n",
    "        self.query = query"
   ]
  },
  {
   "cell_type": "markdown",
   "id": "6eda26f6-2643-4ec3-acce-16b0b638b8ef",
   "metadata": {},
   "source": [
    "### LLM Class"
   ]
  },
  {
   "cell_type": "code",
   "execution_count": 9,
   "id": "d74cc697-b172-4d62-a009-0cf01c9e8b63",
   "metadata": {
    "tags": []
   },
   "outputs": [],
   "source": [
    "class LLM:\n",
    "    def __init__(self, api_key: str = None):\n",
    "        self.api_key = api_key\n",
    "        self.client = OpenAI(api_key=self.api_key) if self.api_key else None\n",
    "\n",
    "    def answer_query(self, query: str, context: str) -> str:\n",
    "        prompt = f\"Based on the provided information about the business, answer the following user query: {query}\\n\\nContext:\\n{context}\"\n",
    "        if self.api_key:\n",
    "            chat_completion = self.client.chat.completions.create(\n",
    "                messages=[\n",
    "                    {\"role\": \"system\", \"content\": prompt},\n",
    "                    {\"role\": \"user\", \"content\": query},\n",
    "                ],\n",
    "                model=\"gpt-3.5-turbo\",\n",
    "            )\n",
    "            return chat_completion.choices[0].message.content.strip()\n",
    "        else:\n",
    "            return \"API key is missing.\""
   ]
  },
  {
   "cell_type": "markdown",
   "id": "15475fc9-4de2-40f2-ad88-8034bc2970c1",
   "metadata": {},
   "source": [
    "### RetrievalAndRanking Class using Chroma"
   ]
  },
  {
   "cell_type": "code",
   "execution_count": 10,
   "id": "a0e72af4-2053-4a49-83c9-c27e2cefe743",
   "metadata": {
    "tags": []
   },
   "outputs": [],
   "source": [
    "class RetrievalAndRanking:\n",
    "    def __init__(self, data_source: DataSource, document_store: Client):\n",
    "        self.data_source = data_source\n",
    "        self.document_store = document_store\n",
    "\n",
    "    def retrieve_relevant_chunks_chroma(self, query: str, top_n: int = 2) -> List[str]:\n",
    "        results = self.document_store.query(\n",
    "            query_texts=[query],\n",
    "            n_results=top_n,\n",
    "        )\n",
    "\n",
    "        relevant_chunks = [result[0] for result in results['documents'][0]]\n",
    "\n",
    "        return relevant_chunks"
   ]
  },
  {
   "cell_type": "markdown",
   "id": "6555bc2b-d7fd-4649-95ea-a526ced77441",
   "metadata": {},
   "source": [
    "### Process the Query"
   ]
  },
  {
   "cell_type": "code",
   "execution_count": 11,
   "id": "326fc7ec-ef0f-4458-b6d8-270ffbf37685",
   "metadata": {
    "tags": []
   },
   "outputs": [],
   "source": [
    "def process_query(query: str, data_source: DataSource, retrieval_and_ranking: RetrievalAndRanking, llm: LLM) -> str:\n",
    "    user_query = UserQuery(query)\n",
    "    business_name = extract_business_name(user_query.query)\n",
    "    \n",
    "    if business_name:\n",
    "        results = retrieval_and_ranking.document_store.get(\n",
    "            where={\"name\": business_name},\n",
    "            include=['metadatas']\n",
    "        )\n",
    "        \n",
    "        if results and results['metadatas']:\n",
    "            metadata = results['metadatas'][0]\n",
    "            context = f\"Business Name: {metadata.get('name', 'N/A')}\\n\"\n",
    "            context += f\"Address: {metadata.get('address', 'N/A')}, {metadata.get('city', 'N/A')}, {metadata.get('state', 'N/A')} {metadata.get('postal_code', 'N/A')}\\n\"\n",
    "            context += f\"Categories: {metadata.get('categories', 'N/A')}\\n\"\n",
    "            context += f\"Hours: {metadata.get('hours', 'N/A')}\\n\"\n",
    "            context += f\"Stars: {metadata.get('stars', 'N/A')}\\n\"\n",
    "            context += f\"Tips: {metadata.get('tips', 'N/A')}\\n\"\n",
    "            answer = llm.answer_query(user_query.query, context)\n",
    "            return answer\n",
    "    \n",
    "    relevant_chunks = retrieval_and_ranking.retrieve_relevant_chunks_chroma(user_query.query)\n",
    "    context = \"\\n\".join(relevant_chunks)\n",
    "    answer = llm.answer_query(user_query.query, context)\n",
    "    return answer"
   ]
  },
  {
   "cell_type": "code",
   "execution_count": 12,
   "id": "aa4bf999-fa96-42e0-acda-bf20f33b4ace",
   "metadata": {
    "tags": []
   },
   "outputs": [],
   "source": [
    "def extract_business_name(query: str) -> str:\n",
    "    if '\"' in query:\n",
    "        start_index = query.find('\"') + 1\n",
    "        end_index = query.find('\"', start_index)\n",
    "        if start_index > 0 and end_index > start_index:\n",
    "            return query[start_index:end_index]\n",
    "    return \"\""
   ]
  },
  {
   "cell_type": "markdown",
   "id": "efecb8e1-f15a-47c3-a928-3338f8192359",
   "metadata": {},
   "source": [
    "### Main Function"
   ]
  },
  {
   "cell_type": "code",
   "execution_count": 13,
   "id": "fe101774-3771-4a5b-972a-98a48b39651c",
   "metadata": {
    "tags": []
   },
   "outputs": [],
   "source": [
    "def main(data_source: DataSource, document_store: Client, model_choice: str = \"openai\", model_name: str = None, device: str = \"cpu\"):\n",
    "    retrieval_and_ranking = RetrievalAndRanking(data_source, document_store)\n",
    "\n",
    "    if model_choice == \"openai\":\n",
    "        llm = LLM(api_key=os.environ.get(\"OPENAI_API_KEY\"))\n",
    "    else:\n",
    "        print('Coming soon')\n",
    "\n",
    "    while True:\n",
    "        user_input = input(\"Enter your query (or type 'exit' to quit): \")\n",
    "        if user_input.lower() == 'exit':\n",
    "            break\n",
    "\n",
    "        answer = process_query(user_input, data_source, retrieval_and_ranking, llm)\n",
    "        print(f\"User Query: {user_input}\")\n",
    "        print(f\"Answer: {answer}\\n\")"
   ]
  },
  {
   "cell_type": "markdown",
   "id": "3415ba92-4f74-4f37-9ffd-15c7a586dc1a",
   "metadata": {},
   "source": [
    "### Preparing Data and Documents using Chroma "
   ]
  },
  {
   "cell_type": "code",
   "execution_count": 14,
   "id": "7ee48ecc-1f8b-4027-aa86-99bceda53e5a",
   "metadata": {
    "tags": []
   },
   "outputs": [
    {
     "name": "stderr",
     "output_type": "stream",
     "text": [
      "/Users/erwinminor/anaconda3/lib/python3.11/site-packages/huggingface_hub/file_download.py:1132: FutureWarning: `resume_download` is deprecated and will be removed in version 1.0.0. Downloads always resume when possible. If you want to force a new download, use `force_download=True`.\n",
      "  warnings.warn(\n"
     ]
    }
   ],
   "source": [
    "data_source = DataSource(df['reviews'].tolist())\n",
    "data_source.process_data()\n",
    "\n",
    "\n",
    "chroma_client = Client()\n",
    "try:\n",
    "    document_store = chroma_client.get_collection(\"my_collection\")\n",
    "    chroma_client.delete_collection(\"my_collection\")\n",
    "except ValueError:\n",
    "    pass\n",
    "\n",
    "document_store = chroma_client.get_or_create_collection(\"my_collection\")\n",
    "\n",
    "\n",
    "documents = []\n",
    "ids = []\n",
    "metadatas = []\n",
    "for _, row in df.iterrows():\n",
    "    meta = {\n",
    "        'name': row['name'],\n",
    "        'address': row['address'],\n",
    "        'city': row['city'],\n",
    "        'state': row['state'],\n",
    "        'postal_code': row['postal_code'],\n",
    "        'categories': row['categories'],\n",
    "        'hours': row['hours'],\n",
    "        'stars': row['stars'],\n",
    "        'tips': row['tips']\n",
    "    }\n",
    "    document = str(row['reviews'])\n",
    "    documents.append(document)\n",
    "    ids.append(str(row['business_id']))\n",
    "    metadatas.append(meta)\n",
    "\n",
    "embedding_function = embedding_functions.SentenceTransformerEmbeddingFunction(model_name=\"all-MiniLM-L6-v2\")\n",
    "embeddings = embedding_function(documents)\n",
    "document_store.add(\n",
    "    ids=ids,\n",
    "    documents=documents,\n",
    "    metadatas=metadatas,\n",
    "    embeddings=embeddings\n",
    ")"
   ]
  },
  {
   "cell_type": "markdown",
   "id": "1b775b48-8e14-4b26-8d27-8d1666b02942",
   "metadata": {},
   "source": [
    "### Try"
   ]
  },
  {
   "cell_type": "markdown",
   "id": "d35b09c3-a05d-4562-ae0d-0438e66d28a6",
   "metadata": {},
   "source": [
    "Possible queries:\n",
    "\n",
    "- What are the hours of \"...\"?\n",
    "- Where is located \"...\"?\n",
    "- What is the sentiment in the reviews of \"...\"?\n",
    "- Tell me some tips for \"...\"\n",
    "- What is the rating of \"...\"?\n",
    "- What are the categories of \"...\"?"
   ]
  },
  {
   "cell_type": "code",
   "execution_count": 19,
   "id": "15945da4-b394-44a2-a6a0-a9aaa440e4cb",
   "metadata": {
    "tags": []
   },
   "outputs": [
    {
     "name": "stdin",
     "output_type": "stream",
     "text": [
      "Enter your query (or type 'exit' to quit):  What are the hours of \"Trolley Car Ice Cream Shoppe\"?\n"
     ]
    },
    {
     "name": "stdout",
     "output_type": "stream",
     "text": [
      "User Query: What are the hours of \"Trolley Car Ice Cream Shoppe\"?\n",
      "Answer: The hours of \"Trolley Car Ice Cream Shoppe\" are as follows:\n",
      "- Monday: 12:00 PM - 10:00 PM\n",
      "- Tuesday: 12:00 PM - 10:00 PM\n",
      "- Wednesday: 12:00 PM - 10:00 PM\n",
      "- Thursday: 12:00 PM - 10:00 PM\n",
      "- Friday: 12:00 PM - 10:00 PM\n",
      "- Saturday: 12:00 PM - 10:00 PM\n",
      "- Sunday: 12:00 PM - 10:00 PM\n",
      "\n"
     ]
    },
    {
     "name": "stdin",
     "output_type": "stream",
     "text": [
      "Enter your query (or type 'exit' to quit):  Where is located \"Core Wellness and Chiropractic\"?\n"
     ]
    },
    {
     "name": "stdout",
     "output_type": "stream",
     "text": [
      "User Query: Where is located \"Core Wellness and Chiropractic\"?\n",
      "Answer: \"Core Wellness and Chiropractic\" is located at 100-111 Broadway Boulevard, Sherwood Park, AB T8H 2A8.\n",
      "\n"
     ]
    },
    {
     "name": "stdin",
     "output_type": "stream",
     "text": [
      "Enter your query (or type 'exit' to quit):  What is the sentiment in the reviews of \"Core Wellness and Chiropractic\"?\n"
     ]
    },
    {
     "name": "stdout",
     "output_type": "stream",
     "text": [
      "User Query: What is the sentiment in the reviews of \"Core Wellness and Chiropractic\"?\n",
      "Answer: The sentiment in the review provided for \"Core Wellness and Chiropractic\" is positive. The reviewer mentioned, \"These guys crack me up!\" which suggests that they had a pleasant and enjoyable experience at the business.\n",
      "\n"
     ]
    },
    {
     "name": "stdin",
     "output_type": "stream",
     "text": [
      "Enter your query (or type 'exit' to quit):  What is the rating of \"Every Body Massage\"?\n"
     ]
    },
    {
     "name": "stdout",
     "output_type": "stream",
     "text": [
      "User Query: What is the rating of \"Every Body Massage\"?\n",
      "Answer: The rating of \"Every Body Massage\" is 4.85 out of 5 stars.\n",
      "\n"
     ]
    },
    {
     "name": "stdin",
     "output_type": "stream",
     "text": [
      "Enter your query (or type 'exit' to quit):  Give me 5 businesses with a rating of 5 stars\n"
     ]
    },
    {
     "name": "stdout",
     "output_type": "stream",
     "text": [
      "User Query: Give me 5 businesses with a rating of 5 stars\n",
      "Answer: Here are 5 businesses with a rating of 5 stars:\n",
      "\n",
      "1. The Blossom Cafe\n",
      "2. Summit Spa Retreat\n",
      "3. Green Thumb Garden Center\n",
      "4. Ocean Breeze Yoga Studio\n",
      "5. Rocky Mountain Adventures Tour Co.\n",
      "\n"
     ]
    },
    {
     "name": "stdin",
     "output_type": "stream",
     "text": [
      "Enter your query (or type 'exit' to quit):  What is the rating of \"Ocean Breeze Yoga Studio\"?\n"
     ]
    },
    {
     "name": "stdout",
     "output_type": "stream",
     "text": [
      "User Query: What is the rating of \"Ocean Breeze Yoga Studio\"?\n",
      "Answer: Based on the information provided, the rating of \"Ocean Breeze Yoga Studio\" is 4.5 stars on both Google and Yelp.\n",
      "\n"
     ]
    },
    {
     "name": "stdin",
     "output_type": "stream",
     "text": [
      "Enter your query (or type 'exit' to quit):  exit\n"
     ]
    }
   ],
   "source": [
    "main(data_source, document_store)"
   ]
  },
  {
   "cell_type": "markdown",
   "id": "03b0987a-4508-44b6-9257-2267d4cc95b0",
   "metadata": {},
   "source": [
    "### Print data for queries"
   ]
  },
  {
   "cell_type": "code",
   "execution_count": 15,
   "id": "d64536a9-c8a7-4fd7-be5b-b7b2fcbc6cba",
   "metadata": {},
   "outputs": [
    {
     "data": {
      "text/html": [
       "<div>\n",
       "<style scoped>\n",
       "    .dataframe tbody tr th:only-of-type {\n",
       "        vertical-align: middle;\n",
       "    }\n",
       "\n",
       "    .dataframe tbody tr th {\n",
       "        vertical-align: top;\n",
       "    }\n",
       "\n",
       "    .dataframe thead th {\n",
       "        text-align: right;\n",
       "    }\n",
       "</style>\n",
       "<table border=\"1\" class=\"dataframe\">\n",
       "  <thead>\n",
       "    <tr style=\"text-align: right;\">\n",
       "      <th></th>\n",
       "      <th>business_id</th>\n",
       "      <th>name</th>\n",
       "      <th>address</th>\n",
       "      <th>city</th>\n",
       "      <th>state</th>\n",
       "      <th>postal_code</th>\n",
       "      <th>latitude</th>\n",
       "      <th>longitude</th>\n",
       "      <th>review_count</th>\n",
       "      <th>categories</th>\n",
       "      <th>hours</th>\n",
       "      <th>tips</th>\n",
       "      <th>reviews</th>\n",
       "      <th>stars</th>\n",
       "    </tr>\n",
       "  </thead>\n",
       "  <tbody>\n",
       "    <tr>\n",
       "      <th>65045</th>\n",
       "      <td>cD_If67mFKSEKFE1BZgJCA</td>\n",
       "      <td>Trolley Car Ice Cream Shoppe</td>\n",
       "      <td>7619 Germantown Ave</td>\n",
       "      <td>Philadelphia</td>\n",
       "      <td>PA</td>\n",
       "      <td>19119</td>\n",
       "      <td>40.065664</td>\n",
       "      <td>-75.195612</td>\n",
       "      <td>20</td>\n",
       "      <td>Ice Cream &amp; Frozen Yogurt, Desserts, Food</td>\n",
       "      <td>{'Monday': '12:0-22:0', 'Tuesday': '12:0-22:0'...</td>\n",
       "      <td>Gelati with root beer ice and vanilla ice crea...</td>\n",
       "      <td>I haven't tried their water ice, however, I ha...</td>\n",
       "      <td>3.761905</td>\n",
       "    </tr>\n",
       "    <tr>\n",
       "      <th>48444</th>\n",
       "      <td>jYAol1aB_ZC8JhKMljG9zw</td>\n",
       "      <td>Christine's House of Kingfish Barbecue</td>\n",
       "      <td>926 Rt 206</td>\n",
       "      <td>Shamong</td>\n",
       "      <td>NJ</td>\n",
       "      <td>08088</td>\n",
       "      <td>39.767384</td>\n",
       "      <td>-74.738348</td>\n",
       "      <td>59</td>\n",
       "      <td>Southern, Barbeque, Restaurants</td>\n",
       "      <td>{'Friday': '12:0-18:30', 'Saturday': '12:0-19:...</td>\n",
       "      <td>The crew were very friendly and inviting. The ...</td>\n",
       "      <td>AMAZING! I'm from the south (Western NC) and t...</td>\n",
       "      <td>4.531250</td>\n",
       "    </tr>\n",
       "    <tr>\n",
       "      <th>35384</th>\n",
       "      <td>NNab8Ympt7XaVWGWjqoykg</td>\n",
       "      <td>Every Body Massage</td>\n",
       "      <td>6654 Chippewa St</td>\n",
       "      <td>St. Louis</td>\n",
       "      <td>MO</td>\n",
       "      <td>63109</td>\n",
       "      <td>38.590182</td>\n",
       "      <td>-90.306076</td>\n",
       "      <td>26</td>\n",
       "      <td>Massage Therapy, Hair Removal, Health &amp; Medica...</td>\n",
       "      <td>{'Monday': '0:0-0:0', 'Tuesday': '9:0-21:0', '...</td>\n",
       "      <td>NaN</td>\n",
       "      <td>I'm always hesitant to leave poor reviews for ...</td>\n",
       "      <td>4.846154</td>\n",
       "    </tr>\n",
       "    <tr>\n",
       "      <th>104156</th>\n",
       "      <td>LxBB61ONDmFoWSLBQZWBIA</td>\n",
       "      <td>O'Reilly Auto Parts</td>\n",
       "      <td>232 Los Altos Parkway</td>\n",
       "      <td>Sparks</td>\n",
       "      <td>NV</td>\n",
       "      <td>89436</td>\n",
       "      <td>39.584389</td>\n",
       "      <td>-119.740724</td>\n",
       "      <td>20</td>\n",
       "      <td>Automotive, Auto Parts &amp; Supplies</td>\n",
       "      <td>{'Monday': '7:30-21:0', 'Tuesday': '7:30-21:0'...</td>\n",
       "      <td>NaN</td>\n",
       "      <td>Cant give enough kudos to Ben. He treated me i...</td>\n",
       "      <td>3.850000</td>\n",
       "    </tr>\n",
       "    <tr>\n",
       "      <th>68395</th>\n",
       "      <td>fNd-tOJGusNDcT0Kqzikaw</td>\n",
       "      <td>Indian Hut</td>\n",
       "      <td>1253 Churchmans Rd</td>\n",
       "      <td>Newark</td>\n",
       "      <td>DE</td>\n",
       "      <td>19713</td>\n",
       "      <td>39.691200</td>\n",
       "      <td>-75.661555</td>\n",
       "      <td>22</td>\n",
       "      <td>Indian, Restaurants</td>\n",
       "      <td>{'Monday': '11:30-21:30', 'Tuesday': '11:30-21...</td>\n",
       "      <td>Not recommended</td>\n",
       "      <td>I love this place!! Their food tastes like aut...</td>\n",
       "      <td>2.727273</td>\n",
       "    </tr>\n",
       "    <tr>\n",
       "      <th>...</th>\n",
       "      <td>...</td>\n",
       "      <td>...</td>\n",
       "      <td>...</td>\n",
       "      <td>...</td>\n",
       "      <td>...</td>\n",
       "      <td>...</td>\n",
       "      <td>...</td>\n",
       "      <td>...</td>\n",
       "      <td>...</td>\n",
       "      <td>...</td>\n",
       "      <td>...</td>\n",
       "      <td>...</td>\n",
       "      <td>...</td>\n",
       "      <td>...</td>\n",
       "    </tr>\n",
       "    <tr>\n",
       "      <th>130846</th>\n",
       "      <td>pBP6Vxhx1PSH2TftigpqtQ</td>\n",
       "      <td>Core Wellness and Chiropractic</td>\n",
       "      <td>100-111 Broadway Boulevard</td>\n",
       "      <td>Sherwood Park</td>\n",
       "      <td>AB</td>\n",
       "      <td>T8H 2A8</td>\n",
       "      <td>53.544253</td>\n",
       "      <td>-113.312416</td>\n",
       "      <td>5</td>\n",
       "      <td>Acupuncture, Beauty &amp; Spas, Chiropractors, Hea...</td>\n",
       "      <td>{'Monday': '7:30-18:30', 'Tuesday': '7:30-18:0...</td>\n",
       "      <td>These guys crack me up!</td>\n",
       "      <td>I've been going to see Dr. Dustin at this clin...</td>\n",
       "      <td>5.000000</td>\n",
       "    </tr>\n",
       "    <tr>\n",
       "      <th>20633</th>\n",
       "      <td>lznQEqIirjbjIMHkJZuS8A</td>\n",
       "      <td>Calogero's</td>\n",
       "      <td>608 Iberville St</td>\n",
       "      <td>New Orleans</td>\n",
       "      <td>LA</td>\n",
       "      <td>70130</td>\n",
       "      <td>29.953699</td>\n",
       "      <td>-90.067618</td>\n",
       "      <td>10</td>\n",
       "      <td>Bars, Nightlife</td>\n",
       "      <td>{'Monday': '12:0-6:0', 'Tuesday': '12:0-6:0', ...</td>\n",
       "      <td>Great happy hour!!! \\nMonday double well drink...</td>\n",
       "      <td>Cheese and Crackers!!  These guys make the bes...</td>\n",
       "      <td>4.600000</td>\n",
       "    </tr>\n",
       "    <tr>\n",
       "      <th>117702</th>\n",
       "      <td>fm5tEBP8q9COf360VdcxZg</td>\n",
       "      <td>The Detail Shop Reno</td>\n",
       "      <td>199 E Moana Ln</td>\n",
       "      <td>Reno</td>\n",
       "      <td>NV</td>\n",
       "      <td>89502</td>\n",
       "      <td>39.492596</td>\n",
       "      <td>-119.794103</td>\n",
       "      <td>7</td>\n",
       "      <td>Auto Detailing, Automotive, Car Wash</td>\n",
       "      <td>{'Monday': '9:0-17:0', 'Tuesday': '9:0-17:0', ...</td>\n",
       "      <td>NaN</td>\n",
       "      <td>Did an amazing job on my suv. They were respon...</td>\n",
       "      <td>5.000000</td>\n",
       "    </tr>\n",
       "    <tr>\n",
       "      <th>45441</th>\n",
       "      <td>FZm2oRJ_pka6u2KPcVEBkw</td>\n",
       "      <td>Burger King</td>\n",
       "      <td>3701 34th St N</td>\n",
       "      <td>Saint Petersburg</td>\n",
       "      <td>FL</td>\n",
       "      <td>33713</td>\n",
       "      <td>27.805841</td>\n",
       "      <td>-82.679086</td>\n",
       "      <td>9</td>\n",
       "      <td>Restaurants, Fast Food, Burgers</td>\n",
       "      <td>{'Monday': '5:0-0:0', 'Tuesday': '5:0-0:0', 'W...</td>\n",
       "      <td>Sketchy burger king What a waste of time. Fast...</td>\n",
       "      <td>It's a Burger King, nothing special. Food coul...</td>\n",
       "      <td>2.666667</td>\n",
       "    </tr>\n",
       "    <tr>\n",
       "      <th>55665</th>\n",
       "      <td>xirOrZTYxXAhrwl1EKFgqQ</td>\n",
       "      <td>Panera Bread</td>\n",
       "      <td>51 Town Center Dr, Ste 2</td>\n",
       "      <td>Collegeville</td>\n",
       "      <td>PA</td>\n",
       "      <td>19426</td>\n",
       "      <td>40.166053</td>\n",
       "      <td>-75.478640</td>\n",
       "      <td>38</td>\n",
       "      <td>Restaurants, Sandwiches, Salad, Soup</td>\n",
       "      <td>{'Monday': '7:0-21:0', 'Tuesday': '7:0-21:0', ...</td>\n",
       "      <td>The Italian Combo Sandwich is yummy! 99 cent p...</td>\n",
       "      <td>I have never been to a panera before this one ...</td>\n",
       "      <td>2.692308</td>\n",
       "    </tr>\n",
       "  </tbody>\n",
       "</table>\n",
       "<p>10000 rows × 14 columns</p>\n",
       "</div>"
      ],
      "text/plain": [
       "                   business_id                                    name  \\\n",
       "65045   cD_If67mFKSEKFE1BZgJCA            Trolley Car Ice Cream Shoppe   \n",
       "48444   jYAol1aB_ZC8JhKMljG9zw  Christine's House of Kingfish Barbecue   \n",
       "35384   NNab8Ympt7XaVWGWjqoykg                      Every Body Massage   \n",
       "104156  LxBB61ONDmFoWSLBQZWBIA                     O'Reilly Auto Parts   \n",
       "68395   fNd-tOJGusNDcT0Kqzikaw                              Indian Hut   \n",
       "...                        ...                                     ...   \n",
       "130846  pBP6Vxhx1PSH2TftigpqtQ          Core Wellness and Chiropractic   \n",
       "20633   lznQEqIirjbjIMHkJZuS8A                              Calogero's   \n",
       "117702  fm5tEBP8q9COf360VdcxZg                    The Detail Shop Reno   \n",
       "45441   FZm2oRJ_pka6u2KPcVEBkw                             Burger King   \n",
       "55665   xirOrZTYxXAhrwl1EKFgqQ                            Panera Bread   \n",
       "\n",
       "                           address              city state postal_code  \\\n",
       "65045          7619 Germantown Ave      Philadelphia    PA       19119   \n",
       "48444                   926 Rt 206           Shamong    NJ       08088   \n",
       "35384             6654 Chippewa St         St. Louis    MO       63109   \n",
       "104156       232 Los Altos Parkway            Sparks    NV       89436   \n",
       "68395           1253 Churchmans Rd            Newark    DE       19713   \n",
       "...                            ...               ...   ...         ...   \n",
       "130846  100-111 Broadway Boulevard     Sherwood Park    AB     T8H 2A8   \n",
       "20633             608 Iberville St       New Orleans    LA       70130   \n",
       "117702              199 E Moana Ln              Reno    NV       89502   \n",
       "45441               3701 34th St N  Saint Petersburg    FL       33713   \n",
       "55665     51 Town Center Dr, Ste 2      Collegeville    PA       19426   \n",
       "\n",
       "         latitude   longitude  review_count  \\\n",
       "65045   40.065664  -75.195612            20   \n",
       "48444   39.767384  -74.738348            59   \n",
       "35384   38.590182  -90.306076            26   \n",
       "104156  39.584389 -119.740724            20   \n",
       "68395   39.691200  -75.661555            22   \n",
       "...           ...         ...           ...   \n",
       "130846  53.544253 -113.312416             5   \n",
       "20633   29.953699  -90.067618            10   \n",
       "117702  39.492596 -119.794103             7   \n",
       "45441   27.805841  -82.679086             9   \n",
       "55665   40.166053  -75.478640            38   \n",
       "\n",
       "                                               categories  \\\n",
       "65045           Ice Cream & Frozen Yogurt, Desserts, Food   \n",
       "48444                     Southern, Barbeque, Restaurants   \n",
       "35384   Massage Therapy, Hair Removal, Health & Medica...   \n",
       "104156                  Automotive, Auto Parts & Supplies   \n",
       "68395                                 Indian, Restaurants   \n",
       "...                                                   ...   \n",
       "130846  Acupuncture, Beauty & Spas, Chiropractors, Hea...   \n",
       "20633                                     Bars, Nightlife   \n",
       "117702               Auto Detailing, Automotive, Car Wash   \n",
       "45441                     Restaurants, Fast Food, Burgers   \n",
       "55665                Restaurants, Sandwiches, Salad, Soup   \n",
       "\n",
       "                                                    hours  \\\n",
       "65045   {'Monday': '12:0-22:0', 'Tuesday': '12:0-22:0'...   \n",
       "48444   {'Friday': '12:0-18:30', 'Saturday': '12:0-19:...   \n",
       "35384   {'Monday': '0:0-0:0', 'Tuesday': '9:0-21:0', '...   \n",
       "104156  {'Monday': '7:30-21:0', 'Tuesday': '7:30-21:0'...   \n",
       "68395   {'Monday': '11:30-21:30', 'Tuesday': '11:30-21...   \n",
       "...                                                   ...   \n",
       "130846  {'Monday': '7:30-18:30', 'Tuesday': '7:30-18:0...   \n",
       "20633   {'Monday': '12:0-6:0', 'Tuesday': '12:0-6:0', ...   \n",
       "117702  {'Monday': '9:0-17:0', 'Tuesday': '9:0-17:0', ...   \n",
       "45441   {'Monday': '5:0-0:0', 'Tuesday': '5:0-0:0', 'W...   \n",
       "55665   {'Monday': '7:0-21:0', 'Tuesday': '7:0-21:0', ...   \n",
       "\n",
       "                                                     tips  \\\n",
       "65045   Gelati with root beer ice and vanilla ice crea...   \n",
       "48444   The crew were very friendly and inviting. The ...   \n",
       "35384                                                 NaN   \n",
       "104156                                                NaN   \n",
       "68395                                     Not recommended   \n",
       "...                                                   ...   \n",
       "130846                            These guys crack me up!   \n",
       "20633   Great happy hour!!! \\nMonday double well drink...   \n",
       "117702                                                NaN   \n",
       "45441   Sketchy burger king What a waste of time. Fast...   \n",
       "55665   The Italian Combo Sandwich is yummy! 99 cent p...   \n",
       "\n",
       "                                                  reviews     stars  \n",
       "65045   I haven't tried their water ice, however, I ha...  3.761905  \n",
       "48444   AMAZING! I'm from the south (Western NC) and t...  4.531250  \n",
       "35384   I'm always hesitant to leave poor reviews for ...  4.846154  \n",
       "104156  Cant give enough kudos to Ben. He treated me i...  3.850000  \n",
       "68395   I love this place!! Their food tastes like aut...  2.727273  \n",
       "...                                                   ...       ...  \n",
       "130846  I've been going to see Dr. Dustin at this clin...  5.000000  \n",
       "20633   Cheese and Crackers!!  These guys make the bes...  4.600000  \n",
       "117702  Did an amazing job on my suv. They were respon...  5.000000  \n",
       "45441   It's a Burger King, nothing special. Food coul...  2.666667  \n",
       "55665   I have never been to a panera before this one ...  2.692308  \n",
       "\n",
       "[10000 rows x 14 columns]"
      ]
     },
     "execution_count": 15,
     "metadata": {},
     "output_type": "execute_result"
    }
   ],
   "source": [
    "df"
   ]
  }
 ],
 "metadata": {
  "kernelspec": {
   "display_name": "Python 3 (ipykernel)",
   "language": "python",
   "name": "python3"
  },
  "language_info": {
   "codemirror_mode": {
    "name": "ipython",
    "version": 3
   },
   "file_extension": ".py",
   "mimetype": "text/x-python",
   "name": "python",
   "nbconvert_exporter": "python",
   "pygments_lexer": "ipython3",
   "version": "3.11.4"
  }
 },
 "nbformat": 4,
 "nbformat_minor": 5
}
